{
  "nbformat": 4,
  "nbformat_minor": 0,
  "metadata": {
    "colab": {
      "name": "Zindi_Challenge_V10.ipynb",
      "provenance": [],
      "include_colab_link": true
    },
    "kernelspec": {
      "name": "python3",
      "display_name": "Python 3"
    }
  },
  "cells": [
    {
      "cell_type": "markdown",
      "metadata": {
        "id": "view-in-github",
        "colab_type": "text"
      },
      "source": [
        "<a href=\"https://colab.research.google.com/github/Wilma1088/mypackage/blob/master/Zindi_Challenge_V10.ipynb\" target=\"_parent\"><img src=\"https://colab.research.google.com/assets/colab-badge.svg\" alt=\"Open In Colab\"/></a>"
      ]
    },
    {
      "cell_type": "code",
      "metadata": {
        "id": "E7Y-ofCPxO7b",
        "colab_type": "code",
        "colab": {}
      },
      "source": [
        "import numpy as np\n",
        "import pandas as pd\n",
        "import seaborn as sns\n",
        "import matplotlib.pyplot as plt\n",
        "\n",
        "from sklearn import preprocessing\n",
        "from sklearn.compose import ColumnTransformer\n",
        "from sklearn.preprocessing import OneHotEncoder\n",
        "from sklearn.preprocessing import LabelEncoder\n",
        "from sklearn.model_selection import train_test_split\n",
        "from sklearn.linear_model import LinearRegression\n",
        "from sklearn.tree import DecisionTreeRegressor\n",
        "from sklearn.preprocessing import StandardScaler\n",
        "from sklearn.metrics import mean_squared_error\n",
        "from sklearn.ensemble import RandomForestRegressor\n",
        "from sklearn.model_selection import cross_val_score\n",
        "from sklearn.model_selection import GridSearchCV\n",
        "from sklearn.linear_model import Ridge\n",
        "from sklearn.linear_model import Lasso\n",
        "from sklearn.preprocessing import PolynomialFeatures\n",
        "from sklearn.pipeline import Pipeline\n",
        "from sklearn.linear_model import LogisticRegression\n",
        "from sklearn.metrics import classification_report, confusion_matrix\n",
        "from sklearn.svm import SVR\n",
        "\n",
        "from tqdm import tqdm\n",
        "import math\n",
        "import random\n",
        "\n",
        "from scipy.stats import norm, skew #for some statistics\n",
        "\n",
        "from google.colab import files\n",
        "import io"
      ],
      "execution_count": 3,
      "outputs": []
    },
    {
      "cell_type": "code",
      "metadata": {
        "id": "-88hxGE9xSB6",
        "colab_type": "code",
        "colab": {
          "resources": {
            "http://localhost:8080/nbextensions/google.colab/files.js": {
              "data": "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",
              "ok": true,
              "headers": [
                [
                  "content-type",
                  "application/javascript"
                ]
              ],
              "status": 200,
              "status_text": ""
            }
          },
          "base_uri": "https://localhost:8080/",
          "height": 141
        },
        "outputId": "b9f44c06-5173-4e6e-d819-6887e9663ee3"
      },
      "source": [
        "uploaded = files.upload()"
      ],
      "execution_count": 4,
      "outputs": [
        {
          "output_type": "display_data",
          "data": {
            "text/html": [
              "\n",
              "     <input type=\"file\" id=\"files-fdd6db78-b1e3-403b-8c12-b5518366fbe0\" name=\"files[]\" multiple disabled\n",
              "        style=\"border:none\" />\n",
              "     <output id=\"result-fdd6db78-b1e3-403b-8c12-b5518366fbe0\">\n",
              "      Upload widget is only available when the cell has been executed in the\n",
              "      current browser session. Please rerun this cell to enable.\n",
              "      </output>\n",
              "      <script src=\"/nbextensions/google.colab/files.js\"></script> "
            ],
            "text/plain": [
              "<IPython.core.display.HTML object>"
            ]
          },
          "metadata": {
            "tags": []
          }
        },
        {
          "output_type": "stream",
          "text": [
            "Saving Riders.csv to Riders (2).csv\n",
            "Saving Test.csv to Test (2).csv\n",
            "Saving Train.csv to Train (2).csv\n"
          ],
          "name": "stdout"
        }
      ]
    },
    {
      "cell_type": "code",
      "metadata": {
        "id": "Bd45XFRPx-I5",
        "colab_type": "code",
        "colab": {
          "base_uri": "https://localhost:8080/",
          "height": 202
        },
        "outputId": "7b4da11a-116a-4686-f203-e21a2ab535e7"
      },
      "source": [
        "riders_df = pd.read_csv(io.BytesIO(uploaded['Riders.csv']))\n",
        "riders_df.columns= [col.replace(' ', '_') for col in riders_df.columns]\n",
        "riders_df.head()"
      ],
      "execution_count": 5,
      "outputs": [
        {
          "output_type": "execute_result",
          "data": {
            "text/html": [
              "<div>\n",
              "<style scoped>\n",
              "    .dataframe tbody tr th:only-of-type {\n",
              "        vertical-align: middle;\n",
              "    }\n",
              "\n",
              "    .dataframe tbody tr th {\n",
              "        vertical-align: top;\n",
              "    }\n",
              "\n",
              "    .dataframe thead th {\n",
              "        text-align: right;\n",
              "    }\n",
              "</style>\n",
              "<table border=\"1\" class=\"dataframe\">\n",
              "  <thead>\n",
              "    <tr style=\"text-align: right;\">\n",
              "      <th></th>\n",
              "      <th>Rider_Id</th>\n",
              "      <th>No_Of_Orders</th>\n",
              "      <th>Age</th>\n",
              "      <th>Average_Rating</th>\n",
              "      <th>No_of_Ratings</th>\n",
              "    </tr>\n",
              "  </thead>\n",
              "  <tbody>\n",
              "    <tr>\n",
              "      <th>0</th>\n",
              "      <td>Rider_Id_396</td>\n",
              "      <td>2946</td>\n",
              "      <td>2298</td>\n",
              "      <td>14.0</td>\n",
              "      <td>1159</td>\n",
              "    </tr>\n",
              "    <tr>\n",
              "      <th>1</th>\n",
              "      <td>Rider_Id_479</td>\n",
              "      <td>360</td>\n",
              "      <td>951</td>\n",
              "      <td>13.5</td>\n",
              "      <td>176</td>\n",
              "    </tr>\n",
              "    <tr>\n",
              "      <th>2</th>\n",
              "      <td>Rider_Id_648</td>\n",
              "      <td>1746</td>\n",
              "      <td>821</td>\n",
              "      <td>14.3</td>\n",
              "      <td>466</td>\n",
              "    </tr>\n",
              "    <tr>\n",
              "      <th>3</th>\n",
              "      <td>Rider_Id_753</td>\n",
              "      <td>314</td>\n",
              "      <td>980</td>\n",
              "      <td>12.5</td>\n",
              "      <td>75</td>\n",
              "    </tr>\n",
              "    <tr>\n",
              "      <th>4</th>\n",
              "      <td>Rider_Id_335</td>\n",
              "      <td>536</td>\n",
              "      <td>1113</td>\n",
              "      <td>13.7</td>\n",
              "      <td>156</td>\n",
              "    </tr>\n",
              "  </tbody>\n",
              "</table>\n",
              "</div>"
            ],
            "text/plain": [
              "       Rider_Id  No_Of_Orders   Age  Average_Rating  No_of_Ratings\n",
              "0  Rider_Id_396          2946  2298            14.0           1159\n",
              "1  Rider_Id_479           360   951            13.5            176\n",
              "2  Rider_Id_648          1746   821            14.3            466\n",
              "3  Rider_Id_753           314   980            12.5             75\n",
              "4  Rider_Id_335           536  1113            13.7            156"
            ]
          },
          "metadata": {
            "tags": []
          },
          "execution_count": 5
        }
      ]
    },
    {
      "cell_type": "code",
      "metadata": {
        "id": "HMIKEpyUx_39",
        "colab_type": "code",
        "colab": {
          "base_uri": "https://localhost:8080/",
          "height": 326
        },
        "outputId": "452fcfef-8b87-4737-b771-54c866ecb13f"
      },
      "source": [
        "test_df = pd.read_csv(io.BytesIO(uploaded['Test.csv']))\n",
        "test_df.columns= [col.replace(' ', '_') for col in test_df.columns]\n",
        "test_df.head()"
      ],
      "execution_count": 6,
      "outputs": [
        {
          "output_type": "execute_result",
          "data": {
            "text/html": [
              "<div>\n",
              "<style scoped>\n",
              "    .dataframe tbody tr th:only-of-type {\n",
              "        vertical-align: middle;\n",
              "    }\n",
              "\n",
              "    .dataframe tbody tr th {\n",
              "        vertical-align: top;\n",
              "    }\n",
              "\n",
              "    .dataframe thead th {\n",
              "        text-align: right;\n",
              "    }\n",
              "</style>\n",
              "<table border=\"1\" class=\"dataframe\">\n",
              "  <thead>\n",
              "    <tr style=\"text-align: right;\">\n",
              "      <th></th>\n",
              "      <th>Order_No</th>\n",
              "      <th>User_Id</th>\n",
              "      <th>Vehicle_Type</th>\n",
              "      <th>Platform_Type</th>\n",
              "      <th>Personal_or_Business</th>\n",
              "      <th>Placement_-_Day_of_Month</th>\n",
              "      <th>Placement_-_Weekday_(Mo_=_1)</th>\n",
              "      <th>Placement_-_Time</th>\n",
              "      <th>Confirmation_-_Day_of_Month</th>\n",
              "      <th>Confirmation_-_Weekday_(Mo_=_1)</th>\n",
              "      <th>Confirmation_-_Time</th>\n",
              "      <th>Arrival_at_Pickup_-_Day_of_Month</th>\n",
              "      <th>Arrival_at_Pickup_-_Weekday_(Mo_=_1)</th>\n",
              "      <th>Arrival_at_Pickup_-_Time</th>\n",
              "      <th>Pickup_-_Day_of_Month</th>\n",
              "      <th>Pickup_-_Weekday_(Mo_=_1)</th>\n",
              "      <th>Pickup_-_Time</th>\n",
              "      <th>Distance_(KM)</th>\n",
              "      <th>Temperature</th>\n",
              "      <th>Precipitation_in_millimeters</th>\n",
              "      <th>Pickup_Lat</th>\n",
              "      <th>Pickup_Long</th>\n",
              "      <th>Destination_Lat</th>\n",
              "      <th>Destination_Long</th>\n",
              "      <th>Rider_Id</th>\n",
              "    </tr>\n",
              "  </thead>\n",
              "  <tbody>\n",
              "    <tr>\n",
              "      <th>0</th>\n",
              "      <td>Order_No_19248</td>\n",
              "      <td>User_Id_3355</td>\n",
              "      <td>Bike</td>\n",
              "      <td>3</td>\n",
              "      <td>Business</td>\n",
              "      <td>27</td>\n",
              "      <td>3</td>\n",
              "      <td>4:44:10 PM</td>\n",
              "      <td>27</td>\n",
              "      <td>3</td>\n",
              "      <td>4:44:29 PM</td>\n",
              "      <td>27</td>\n",
              "      <td>3</td>\n",
              "      <td>4:53:04 PM</td>\n",
              "      <td>27</td>\n",
              "      <td>3</td>\n",
              "      <td>5:06:47 PM</td>\n",
              "      <td>8</td>\n",
              "      <td>NaN</td>\n",
              "      <td>NaN</td>\n",
              "      <td>-1.333275</td>\n",
              "      <td>36.870815</td>\n",
              "      <td>-1.305249</td>\n",
              "      <td>36.822390</td>\n",
              "      <td>Rider_Id_192</td>\n",
              "    </tr>\n",
              "    <tr>\n",
              "      <th>1</th>\n",
              "      <td>Order_No_12736</td>\n",
              "      <td>User_Id_3647</td>\n",
              "      <td>Bike</td>\n",
              "      <td>3</td>\n",
              "      <td>Business</td>\n",
              "      <td>17</td>\n",
              "      <td>5</td>\n",
              "      <td>12:57:35 PM</td>\n",
              "      <td>17</td>\n",
              "      <td>5</td>\n",
              "      <td>12:59:17 PM</td>\n",
              "      <td>17</td>\n",
              "      <td>5</td>\n",
              "      <td>1:20:27 PM</td>\n",
              "      <td>17</td>\n",
              "      <td>5</td>\n",
              "      <td>1:25:37 PM</td>\n",
              "      <td>5</td>\n",
              "      <td>NaN</td>\n",
              "      <td>NaN</td>\n",
              "      <td>-1.272639</td>\n",
              "      <td>36.794723</td>\n",
              "      <td>-1.277007</td>\n",
              "      <td>36.823907</td>\n",
              "      <td>Rider_Id_868</td>\n",
              "    </tr>\n",
              "    <tr>\n",
              "      <th>2</th>\n",
              "      <td>Order_No_768</td>\n",
              "      <td>User_Id_2154</td>\n",
              "      <td>Bike</td>\n",
              "      <td>3</td>\n",
              "      <td>Business</td>\n",
              "      <td>27</td>\n",
              "      <td>4</td>\n",
              "      <td>11:08:14 AM</td>\n",
              "      <td>27</td>\n",
              "      <td>4</td>\n",
              "      <td>11:25:05 AM</td>\n",
              "      <td>27</td>\n",
              "      <td>4</td>\n",
              "      <td>11:33:20 AM</td>\n",
              "      <td>27</td>\n",
              "      <td>4</td>\n",
              "      <td>11:57:54 AM</td>\n",
              "      <td>5</td>\n",
              "      <td>22.8</td>\n",
              "      <td>NaN</td>\n",
              "      <td>-1.290894</td>\n",
              "      <td>36.822971</td>\n",
              "      <td>-1.276574</td>\n",
              "      <td>36.851365</td>\n",
              "      <td>Rider_Id_26</td>\n",
              "    </tr>\n",
              "    <tr>\n",
              "      <th>3</th>\n",
              "      <td>Order_No_15332</td>\n",
              "      <td>User_Id_2910</td>\n",
              "      <td>Bike</td>\n",
              "      <td>3</td>\n",
              "      <td>Business</td>\n",
              "      <td>17</td>\n",
              "      <td>1</td>\n",
              "      <td>1:51:35 PM</td>\n",
              "      <td>17</td>\n",
              "      <td>1</td>\n",
              "      <td>1:53:27 PM</td>\n",
              "      <td>17</td>\n",
              "      <td>1</td>\n",
              "      <td>2:02:41 PM</td>\n",
              "      <td>17</td>\n",
              "      <td>1</td>\n",
              "      <td>2:16:52 PM</td>\n",
              "      <td>5</td>\n",
              "      <td>24.5</td>\n",
              "      <td>NaN</td>\n",
              "      <td>-1.290503</td>\n",
              "      <td>36.809646</td>\n",
              "      <td>-1.303382</td>\n",
              "      <td>36.790658</td>\n",
              "      <td>Rider_Id_685</td>\n",
              "    </tr>\n",
              "    <tr>\n",
              "      <th>4</th>\n",
              "      <td>Order_No_21373</td>\n",
              "      <td>User_Id_1205</td>\n",
              "      <td>Bike</td>\n",
              "      <td>3</td>\n",
              "      <td>Business</td>\n",
              "      <td>11</td>\n",
              "      <td>2</td>\n",
              "      <td>11:30:28 AM</td>\n",
              "      <td>11</td>\n",
              "      <td>2</td>\n",
              "      <td>11:34:45 AM</td>\n",
              "      <td>11</td>\n",
              "      <td>2</td>\n",
              "      <td>11:47:19 AM</td>\n",
              "      <td>11</td>\n",
              "      <td>2</td>\n",
              "      <td>11:56:04 AM</td>\n",
              "      <td>6</td>\n",
              "      <td>24.4</td>\n",
              "      <td>NaN</td>\n",
              "      <td>-1.281081</td>\n",
              "      <td>36.814423</td>\n",
              "      <td>-1.266467</td>\n",
              "      <td>36.792161</td>\n",
              "      <td>Rider_Id_858</td>\n",
              "    </tr>\n",
              "  </tbody>\n",
              "</table>\n",
              "</div>"
            ],
            "text/plain": [
              "         Order_No       User_Id  ... Destination_Long      Rider_Id\n",
              "0  Order_No_19248  User_Id_3355  ...        36.822390  Rider_Id_192\n",
              "1  Order_No_12736  User_Id_3647  ...        36.823907  Rider_Id_868\n",
              "2    Order_No_768  User_Id_2154  ...        36.851365   Rider_Id_26\n",
              "3  Order_No_15332  User_Id_2910  ...        36.790658  Rider_Id_685\n",
              "4  Order_No_21373  User_Id_1205  ...        36.792161  Rider_Id_858\n",
              "\n",
              "[5 rows x 25 columns]"
            ]
          },
          "metadata": {
            "tags": []
          },
          "execution_count": 6
        }
      ]
    },
    {
      "cell_type": "code",
      "metadata": {
        "id": "e4aLdjx3yCKp",
        "colab_type": "code",
        "colab": {
          "base_uri": "https://localhost:8080/",
          "height": 326
        },
        "outputId": "6becb935-034a-4dc4-b91c-d0dd4fa4bc20"
      },
      "source": [
        "train_df = pd.read_csv(io.BytesIO(uploaded['Train.csv']))\n",
        "train_df.columns= [col.replace(' ', '_') for col in train_df.columns]\n",
        "train_df.head()"
      ],
      "execution_count": 7,
      "outputs": [
        {
          "output_type": "execute_result",
          "data": {
            "text/html": [
              "<div>\n",
              "<style scoped>\n",
              "    .dataframe tbody tr th:only-of-type {\n",
              "        vertical-align: middle;\n",
              "    }\n",
              "\n",
              "    .dataframe tbody tr th {\n",
              "        vertical-align: top;\n",
              "    }\n",
              "\n",
              "    .dataframe thead th {\n",
              "        text-align: right;\n",
              "    }\n",
              "</style>\n",
              "<table border=\"1\" class=\"dataframe\">\n",
              "  <thead>\n",
              "    <tr style=\"text-align: right;\">\n",
              "      <th></th>\n",
              "      <th>Order_No</th>\n",
              "      <th>User_Id</th>\n",
              "      <th>Vehicle_Type</th>\n",
              "      <th>Platform_Type</th>\n",
              "      <th>Personal_or_Business</th>\n",
              "      <th>Placement_-_Day_of_Month</th>\n",
              "      <th>Placement_-_Weekday_(Mo_=_1)</th>\n",
              "      <th>Placement_-_Time</th>\n",
              "      <th>Confirmation_-_Day_of_Month</th>\n",
              "      <th>Confirmation_-_Weekday_(Mo_=_1)</th>\n",
              "      <th>Confirmation_-_Time</th>\n",
              "      <th>Arrival_at_Pickup_-_Day_of_Month</th>\n",
              "      <th>Arrival_at_Pickup_-_Weekday_(Mo_=_1)</th>\n",
              "      <th>Arrival_at_Pickup_-_Time</th>\n",
              "      <th>Pickup_-_Day_of_Month</th>\n",
              "      <th>Pickup_-_Weekday_(Mo_=_1)</th>\n",
              "      <th>Pickup_-_Time</th>\n",
              "      <th>Arrival_at_Destination_-_Day_of_Month</th>\n",
              "      <th>Arrival_at_Destination_-_Weekday_(Mo_=_1)</th>\n",
              "      <th>Arrival_at_Destination_-_Time</th>\n",
              "      <th>Distance_(KM)</th>\n",
              "      <th>Temperature</th>\n",
              "      <th>Precipitation_in_millimeters</th>\n",
              "      <th>Pickup_Lat</th>\n",
              "      <th>Pickup_Long</th>\n",
              "      <th>Destination_Lat</th>\n",
              "      <th>Destination_Long</th>\n",
              "      <th>Rider_Id</th>\n",
              "      <th>Time_from_Pickup_to_Arrival</th>\n",
              "    </tr>\n",
              "  </thead>\n",
              "  <tbody>\n",
              "    <tr>\n",
              "      <th>0</th>\n",
              "      <td>Order_No_4211</td>\n",
              "      <td>User_Id_633</td>\n",
              "      <td>Bike</td>\n",
              "      <td>3</td>\n",
              "      <td>Business</td>\n",
              "      <td>9</td>\n",
              "      <td>5</td>\n",
              "      <td>9:35:46 AM</td>\n",
              "      <td>9</td>\n",
              "      <td>5</td>\n",
              "      <td>9:40:10 AM</td>\n",
              "      <td>9</td>\n",
              "      <td>5</td>\n",
              "      <td>10:04:47 AM</td>\n",
              "      <td>9</td>\n",
              "      <td>5</td>\n",
              "      <td>10:27:30 AM</td>\n",
              "      <td>9</td>\n",
              "      <td>5</td>\n",
              "      <td>10:39:55 AM</td>\n",
              "      <td>4</td>\n",
              "      <td>20.4</td>\n",
              "      <td>NaN</td>\n",
              "      <td>-1.317755</td>\n",
              "      <td>36.830370</td>\n",
              "      <td>-1.300406</td>\n",
              "      <td>36.829741</td>\n",
              "      <td>Rider_Id_432</td>\n",
              "      <td>745</td>\n",
              "    </tr>\n",
              "    <tr>\n",
              "      <th>1</th>\n",
              "      <td>Order_No_25375</td>\n",
              "      <td>User_Id_2285</td>\n",
              "      <td>Bike</td>\n",
              "      <td>3</td>\n",
              "      <td>Personal</td>\n",
              "      <td>12</td>\n",
              "      <td>5</td>\n",
              "      <td>11:16:16 AM</td>\n",
              "      <td>12</td>\n",
              "      <td>5</td>\n",
              "      <td>11:23:21 AM</td>\n",
              "      <td>12</td>\n",
              "      <td>5</td>\n",
              "      <td>11:40:22 AM</td>\n",
              "      <td>12</td>\n",
              "      <td>5</td>\n",
              "      <td>11:44:09 AM</td>\n",
              "      <td>12</td>\n",
              "      <td>5</td>\n",
              "      <td>12:17:22 PM</td>\n",
              "      <td>16</td>\n",
              "      <td>26.4</td>\n",
              "      <td>NaN</td>\n",
              "      <td>-1.351453</td>\n",
              "      <td>36.899315</td>\n",
              "      <td>-1.295004</td>\n",
              "      <td>36.814358</td>\n",
              "      <td>Rider_Id_856</td>\n",
              "      <td>1993</td>\n",
              "    </tr>\n",
              "    <tr>\n",
              "      <th>2</th>\n",
              "      <td>Order_No_1899</td>\n",
              "      <td>User_Id_265</td>\n",
              "      <td>Bike</td>\n",
              "      <td>3</td>\n",
              "      <td>Business</td>\n",
              "      <td>30</td>\n",
              "      <td>2</td>\n",
              "      <td>12:39:25 PM</td>\n",
              "      <td>30</td>\n",
              "      <td>2</td>\n",
              "      <td>12:42:44 PM</td>\n",
              "      <td>30</td>\n",
              "      <td>2</td>\n",
              "      <td>12:49:34 PM</td>\n",
              "      <td>30</td>\n",
              "      <td>2</td>\n",
              "      <td>12:53:03 PM</td>\n",
              "      <td>30</td>\n",
              "      <td>2</td>\n",
              "      <td>1:00:38 PM</td>\n",
              "      <td>3</td>\n",
              "      <td>NaN</td>\n",
              "      <td>NaN</td>\n",
              "      <td>-1.308284</td>\n",
              "      <td>36.843419</td>\n",
              "      <td>-1.300921</td>\n",
              "      <td>36.828195</td>\n",
              "      <td>Rider_Id_155</td>\n",
              "      <td>455</td>\n",
              "    </tr>\n",
              "    <tr>\n",
              "      <th>3</th>\n",
              "      <td>Order_No_9336</td>\n",
              "      <td>User_Id_1402</td>\n",
              "      <td>Bike</td>\n",
              "      <td>3</td>\n",
              "      <td>Business</td>\n",
              "      <td>15</td>\n",
              "      <td>5</td>\n",
              "      <td>9:25:34 AM</td>\n",
              "      <td>15</td>\n",
              "      <td>5</td>\n",
              "      <td>9:26:05 AM</td>\n",
              "      <td>15</td>\n",
              "      <td>5</td>\n",
              "      <td>9:37:56 AM</td>\n",
              "      <td>15</td>\n",
              "      <td>5</td>\n",
              "      <td>9:43:06 AM</td>\n",
              "      <td>15</td>\n",
              "      <td>5</td>\n",
              "      <td>10:05:27 AM</td>\n",
              "      <td>9</td>\n",
              "      <td>19.2</td>\n",
              "      <td>NaN</td>\n",
              "      <td>-1.281301</td>\n",
              "      <td>36.832396</td>\n",
              "      <td>-1.257147</td>\n",
              "      <td>36.795063</td>\n",
              "      <td>Rider_Id_855</td>\n",
              "      <td>1341</td>\n",
              "    </tr>\n",
              "    <tr>\n",
              "      <th>4</th>\n",
              "      <td>Order_No_27883</td>\n",
              "      <td>User_Id_1737</td>\n",
              "      <td>Bike</td>\n",
              "      <td>1</td>\n",
              "      <td>Personal</td>\n",
              "      <td>13</td>\n",
              "      <td>1</td>\n",
              "      <td>9:55:18 AM</td>\n",
              "      <td>13</td>\n",
              "      <td>1</td>\n",
              "      <td>9:56:18 AM</td>\n",
              "      <td>13</td>\n",
              "      <td>1</td>\n",
              "      <td>10:03:53 AM</td>\n",
              "      <td>13</td>\n",
              "      <td>1</td>\n",
              "      <td>10:05:23 AM</td>\n",
              "      <td>13</td>\n",
              "      <td>1</td>\n",
              "      <td>10:25:37 AM</td>\n",
              "      <td>9</td>\n",
              "      <td>15.4</td>\n",
              "      <td>NaN</td>\n",
              "      <td>-1.266597</td>\n",
              "      <td>36.792118</td>\n",
              "      <td>-1.295041</td>\n",
              "      <td>36.809817</td>\n",
              "      <td>Rider_Id_770</td>\n",
              "      <td>1214</td>\n",
              "    </tr>\n",
              "  </tbody>\n",
              "</table>\n",
              "</div>"
            ],
            "text/plain": [
              "         Order_No       User_Id  ...      Rider_Id  Time_from_Pickup_to_Arrival\n",
              "0   Order_No_4211   User_Id_633  ...  Rider_Id_432                          745\n",
              "1  Order_No_25375  User_Id_2285  ...  Rider_Id_856                         1993\n",
              "2   Order_No_1899   User_Id_265  ...  Rider_Id_155                          455\n",
              "3   Order_No_9336  User_Id_1402  ...  Rider_Id_855                         1341\n",
              "4  Order_No_27883  User_Id_1737  ...  Rider_Id_770                         1214\n",
              "\n",
              "[5 rows x 29 columns]"
            ]
          },
          "metadata": {
            "tags": []
          },
          "execution_count": 7
        }
      ]
    },
    {
      "cell_type": "code",
      "metadata": {
        "id": "O6XazRDyKwAS",
        "colab_type": "code",
        "colab": {
          "base_uri": "https://localhost:8080/",
          "height": 326
        },
        "outputId": "2a0b1533-bcd1-4637-fc37-059d9738cf47"
      },
      "source": [
        "df=pd.concat([train_df, test_df])\n",
        "df.head()"
      ],
      "execution_count": 8,
      "outputs": [
        {
          "output_type": "execute_result",
          "data": {
            "text/html": [
              "<div>\n",
              "<style scoped>\n",
              "    .dataframe tbody tr th:only-of-type {\n",
              "        vertical-align: middle;\n",
              "    }\n",
              "\n",
              "    .dataframe tbody tr th {\n",
              "        vertical-align: top;\n",
              "    }\n",
              "\n",
              "    .dataframe thead th {\n",
              "        text-align: right;\n",
              "    }\n",
              "</style>\n",
              "<table border=\"1\" class=\"dataframe\">\n",
              "  <thead>\n",
              "    <tr style=\"text-align: right;\">\n",
              "      <th></th>\n",
              "      <th>Order_No</th>\n",
              "      <th>User_Id</th>\n",
              "      <th>Vehicle_Type</th>\n",
              "      <th>Platform_Type</th>\n",
              "      <th>Personal_or_Business</th>\n",
              "      <th>Placement_-_Day_of_Month</th>\n",
              "      <th>Placement_-_Weekday_(Mo_=_1)</th>\n",
              "      <th>Placement_-_Time</th>\n",
              "      <th>Confirmation_-_Day_of_Month</th>\n",
              "      <th>Confirmation_-_Weekday_(Mo_=_1)</th>\n",
              "      <th>Confirmation_-_Time</th>\n",
              "      <th>Arrival_at_Pickup_-_Day_of_Month</th>\n",
              "      <th>Arrival_at_Pickup_-_Weekday_(Mo_=_1)</th>\n",
              "      <th>Arrival_at_Pickup_-_Time</th>\n",
              "      <th>Pickup_-_Day_of_Month</th>\n",
              "      <th>Pickup_-_Weekday_(Mo_=_1)</th>\n",
              "      <th>Pickup_-_Time</th>\n",
              "      <th>Arrival_at_Destination_-_Day_of_Month</th>\n",
              "      <th>Arrival_at_Destination_-_Weekday_(Mo_=_1)</th>\n",
              "      <th>Arrival_at_Destination_-_Time</th>\n",
              "      <th>Distance_(KM)</th>\n",
              "      <th>Temperature</th>\n",
              "      <th>Precipitation_in_millimeters</th>\n",
              "      <th>Pickup_Lat</th>\n",
              "      <th>Pickup_Long</th>\n",
              "      <th>Destination_Lat</th>\n",
              "      <th>Destination_Long</th>\n",
              "      <th>Rider_Id</th>\n",
              "      <th>Time_from_Pickup_to_Arrival</th>\n",
              "    </tr>\n",
              "  </thead>\n",
              "  <tbody>\n",
              "    <tr>\n",
              "      <th>0</th>\n",
              "      <td>Order_No_4211</td>\n",
              "      <td>User_Id_633</td>\n",
              "      <td>Bike</td>\n",
              "      <td>3</td>\n",
              "      <td>Business</td>\n",
              "      <td>9</td>\n",
              "      <td>5</td>\n",
              "      <td>9:35:46 AM</td>\n",
              "      <td>9</td>\n",
              "      <td>5</td>\n",
              "      <td>9:40:10 AM</td>\n",
              "      <td>9</td>\n",
              "      <td>5</td>\n",
              "      <td>10:04:47 AM</td>\n",
              "      <td>9</td>\n",
              "      <td>5</td>\n",
              "      <td>10:27:30 AM</td>\n",
              "      <td>9.0</td>\n",
              "      <td>5.0</td>\n",
              "      <td>10:39:55 AM</td>\n",
              "      <td>4</td>\n",
              "      <td>20.4</td>\n",
              "      <td>NaN</td>\n",
              "      <td>-1.317755</td>\n",
              "      <td>36.830370</td>\n",
              "      <td>-1.300406</td>\n",
              "      <td>36.829741</td>\n",
              "      <td>Rider_Id_432</td>\n",
              "      <td>745.0</td>\n",
              "    </tr>\n",
              "    <tr>\n",
              "      <th>1</th>\n",
              "      <td>Order_No_25375</td>\n",
              "      <td>User_Id_2285</td>\n",
              "      <td>Bike</td>\n",
              "      <td>3</td>\n",
              "      <td>Personal</td>\n",
              "      <td>12</td>\n",
              "      <td>5</td>\n",
              "      <td>11:16:16 AM</td>\n",
              "      <td>12</td>\n",
              "      <td>5</td>\n",
              "      <td>11:23:21 AM</td>\n",
              "      <td>12</td>\n",
              "      <td>5</td>\n",
              "      <td>11:40:22 AM</td>\n",
              "      <td>12</td>\n",
              "      <td>5</td>\n",
              "      <td>11:44:09 AM</td>\n",
              "      <td>12.0</td>\n",
              "      <td>5.0</td>\n",
              "      <td>12:17:22 PM</td>\n",
              "      <td>16</td>\n",
              "      <td>26.4</td>\n",
              "      <td>NaN</td>\n",
              "      <td>-1.351453</td>\n",
              "      <td>36.899315</td>\n",
              "      <td>-1.295004</td>\n",
              "      <td>36.814358</td>\n",
              "      <td>Rider_Id_856</td>\n",
              "      <td>1993.0</td>\n",
              "    </tr>\n",
              "    <tr>\n",
              "      <th>2</th>\n",
              "      <td>Order_No_1899</td>\n",
              "      <td>User_Id_265</td>\n",
              "      <td>Bike</td>\n",
              "      <td>3</td>\n",
              "      <td>Business</td>\n",
              "      <td>30</td>\n",
              "      <td>2</td>\n",
              "      <td>12:39:25 PM</td>\n",
              "      <td>30</td>\n",
              "      <td>2</td>\n",
              "      <td>12:42:44 PM</td>\n",
              "      <td>30</td>\n",
              "      <td>2</td>\n",
              "      <td>12:49:34 PM</td>\n",
              "      <td>30</td>\n",
              "      <td>2</td>\n",
              "      <td>12:53:03 PM</td>\n",
              "      <td>30.0</td>\n",
              "      <td>2.0</td>\n",
              "      <td>1:00:38 PM</td>\n",
              "      <td>3</td>\n",
              "      <td>NaN</td>\n",
              "      <td>NaN</td>\n",
              "      <td>-1.308284</td>\n",
              "      <td>36.843419</td>\n",
              "      <td>-1.300921</td>\n",
              "      <td>36.828195</td>\n",
              "      <td>Rider_Id_155</td>\n",
              "      <td>455.0</td>\n",
              "    </tr>\n",
              "    <tr>\n",
              "      <th>3</th>\n",
              "      <td>Order_No_9336</td>\n",
              "      <td>User_Id_1402</td>\n",
              "      <td>Bike</td>\n",
              "      <td>3</td>\n",
              "      <td>Business</td>\n",
              "      <td>15</td>\n",
              "      <td>5</td>\n",
              "      <td>9:25:34 AM</td>\n",
              "      <td>15</td>\n",
              "      <td>5</td>\n",
              "      <td>9:26:05 AM</td>\n",
              "      <td>15</td>\n",
              "      <td>5</td>\n",
              "      <td>9:37:56 AM</td>\n",
              "      <td>15</td>\n",
              "      <td>5</td>\n",
              "      <td>9:43:06 AM</td>\n",
              "      <td>15.0</td>\n",
              "      <td>5.0</td>\n",
              "      <td>10:05:27 AM</td>\n",
              "      <td>9</td>\n",
              "      <td>19.2</td>\n",
              "      <td>NaN</td>\n",
              "      <td>-1.281301</td>\n",
              "      <td>36.832396</td>\n",
              "      <td>-1.257147</td>\n",
              "      <td>36.795063</td>\n",
              "      <td>Rider_Id_855</td>\n",
              "      <td>1341.0</td>\n",
              "    </tr>\n",
              "    <tr>\n",
              "      <th>4</th>\n",
              "      <td>Order_No_27883</td>\n",
              "      <td>User_Id_1737</td>\n",
              "      <td>Bike</td>\n",
              "      <td>1</td>\n",
              "      <td>Personal</td>\n",
              "      <td>13</td>\n",
              "      <td>1</td>\n",
              "      <td>9:55:18 AM</td>\n",
              "      <td>13</td>\n",
              "      <td>1</td>\n",
              "      <td>9:56:18 AM</td>\n",
              "      <td>13</td>\n",
              "      <td>1</td>\n",
              "      <td>10:03:53 AM</td>\n",
              "      <td>13</td>\n",
              "      <td>1</td>\n",
              "      <td>10:05:23 AM</td>\n",
              "      <td>13.0</td>\n",
              "      <td>1.0</td>\n",
              "      <td>10:25:37 AM</td>\n",
              "      <td>9</td>\n",
              "      <td>15.4</td>\n",
              "      <td>NaN</td>\n",
              "      <td>-1.266597</td>\n",
              "      <td>36.792118</td>\n",
              "      <td>-1.295041</td>\n",
              "      <td>36.809817</td>\n",
              "      <td>Rider_Id_770</td>\n",
              "      <td>1214.0</td>\n",
              "    </tr>\n",
              "  </tbody>\n",
              "</table>\n",
              "</div>"
            ],
            "text/plain": [
              "         Order_No       User_Id  ...      Rider_Id  Time_from_Pickup_to_Arrival\n",
              "0   Order_No_4211   User_Id_633  ...  Rider_Id_432                        745.0\n",
              "1  Order_No_25375  User_Id_2285  ...  Rider_Id_856                       1993.0\n",
              "2   Order_No_1899   User_Id_265  ...  Rider_Id_155                        455.0\n",
              "3   Order_No_9336  User_Id_1402  ...  Rider_Id_855                       1341.0\n",
              "4  Order_No_27883  User_Id_1737  ...  Rider_Id_770                       1214.0\n",
              "\n",
              "[5 rows x 29 columns]"
            ]
          },
          "metadata": {
            "tags": []
          },
          "execution_count": 8
        }
      ]
    },
    {
      "cell_type": "code",
      "metadata": {
        "id": "LpxICV8N-sBQ",
        "colab_type": "code",
        "colab": {}
      },
      "source": [
        "df = df.merge(riders_df, left_on='Rider_Id', right_on='Rider_Id', how='left')"
      ],
      "execution_count": 9,
      "outputs": []
    },
    {
      "cell_type": "code",
      "metadata": {
        "id": "tkJM91K1LcpC",
        "colab_type": "code",
        "colab": {
          "base_uri": "https://localhost:8080/",
          "height": 34
        },
        "outputId": "59757c83-d2ca-4ac7-9fc9-f98fa195206e"
      },
      "source": [
        "df.shape"
      ],
      "execution_count": 10,
      "outputs": [
        {
          "output_type": "execute_result",
          "data": {
            "text/plain": [
              "(28269, 33)"
            ]
          },
          "metadata": {
            "tags": []
          },
          "execution_count": 10
        }
      ]
    },
    {
      "cell_type": "code",
      "metadata": {
        "id": "kKb5Htii-lkA",
        "colab_type": "code",
        "colab": {
          "base_uri": "https://localhost:8080/",
          "height": 824
        },
        "outputId": "9345d390-25b8-44b5-931c-75306b7e77de"
      },
      "source": [
        "plt.figure(figsize=(20,10))\n",
        "data = df.corr()\n",
        "mask = np.tril(data)\n",
        "sns.heatmap(data.corr(), annot = True, fmt='.1g', mask= mask)"
      ],
      "execution_count": 11,
      "outputs": [
        {
          "output_type": "execute_result",
          "data": {
            "text/plain": [
              "<matplotlib.axes._subplots.AxesSubplot at 0x7fecee8318d0>"
            ]
          },
          "metadata": {
            "tags": []
          },
          "execution_count": 11
        },
        {
          "output_type": "display_data",
          "data": {
            "image/png": "[encoded data removed]",
            "text/plain": [
              "<Figure size 1440x720 with 2 Axes>"
            ]
          },
          "metadata": {
            "tags": [],
            "needs_background": "light"
          }
        }
      ]
    },
    {
      "cell_type": "code",
      "metadata": {
        "id": "b8U-MgkxOcNh",
        "colab_type": "code",
        "colab": {}
      },
      "source": [
        "df= df.drop(['Arrival_at_Destination_-_Day_of_Month', 'Arrival_at_Destination_-_Weekday_(Mo_=_1)', \n",
        "             'Arrival_at_Destination_-_Time', 'Order_No', 'User_Id', 'Vehicle_Type', \n",
        "             'Rider_Id', 'Placement_-_Time','Confirmation_-_Time', 'Arrival_at_Pickup_-_Time', \n",
        "             'Pickup_-_Time', 'Destination_Lat','Destination_Long', 'Pickup_Lat', \n",
        "             'Pickup_Long', 'Arrival_at_Pickup_-_Day_of_Month', 'Arrival_at_Pickup_-_Weekday_(Mo_=_1)', \n",
        "             'Confirmation_-_Day_of_Month',\t'Confirmation_-_Weekday_(Mo_=_1)', \n",
        "             'Placement_-_Day_of_Month', 'Placement_-_Weekday_(Mo_=_1)' ],axis=1) "
      ],
      "execution_count": 13,
      "outputs": []
    },
    {
      "cell_type": "code",
      "metadata": {
        "id": "tEC71l16hBec",
        "colab_type": "code",
        "colab": {
          "base_uri": "https://localhost:8080/",
          "height": 220
        },
        "outputId": "06bddd7b-ef50-4ad1-f8c8-c0b05a00e7d4"
      },
      "source": [
        "df.head()"
      ],
      "execution_count": 14,
      "outputs": [
        {
          "output_type": "execute_result",
          "data": {
            "text/html": [
              "<div>\n",
              "<style scoped>\n",
              "    .dataframe tbody tr th:only-of-type {\n",
              "        vertical-align: middle;\n",
              "    }\n",
              "\n",
              "    .dataframe tbody tr th {\n",
              "        vertical-align: top;\n",
              "    }\n",
              "\n",
              "    .dataframe thead th {\n",
              "        text-align: right;\n",
              "    }\n",
              "</style>\n",
              "<table border=\"1\" class=\"dataframe\">\n",
              "  <thead>\n",
              "    <tr style=\"text-align: right;\">\n",
              "      <th></th>\n",
              "      <th>Platform_Type</th>\n",
              "      <th>Personal_or_Business</th>\n",
              "      <th>Pickup_-_Day_of_Month</th>\n",
              "      <th>Pickup_-_Weekday_(Mo_=_1)</th>\n",
              "      <th>Distance_(KM)</th>\n",
              "      <th>Temperature</th>\n",
              "      <th>Precipitation_in_millimeters</th>\n",
              "      <th>Time_from_Pickup_to_Arrival</th>\n",
              "      <th>No_Of_Orders</th>\n",
              "      <th>Age</th>\n",
              "      <th>Average_Rating</th>\n",
              "      <th>No_of_Ratings</th>\n",
              "    </tr>\n",
              "  </thead>\n",
              "  <tbody>\n",
              "    <tr>\n",
              "      <th>0</th>\n",
              "      <td>3</td>\n",
              "      <td>Business</td>\n",
              "      <td>9</td>\n",
              "      <td>5</td>\n",
              "      <td>4</td>\n",
              "      <td>20.4</td>\n",
              "      <td>NaN</td>\n",
              "      <td>745.0</td>\n",
              "      <td>1637</td>\n",
              "      <td>1309</td>\n",
              "      <td>13.8</td>\n",
              "      <td>549</td>\n",
              "    </tr>\n",
              "    <tr>\n",
              "      <th>1</th>\n",
              "      <td>3</td>\n",
              "      <td>Personal</td>\n",
              "      <td>12</td>\n",
              "      <td>5</td>\n",
              "      <td>16</td>\n",
              "      <td>26.4</td>\n",
              "      <td>NaN</td>\n",
              "      <td>1993.0</td>\n",
              "      <td>396</td>\n",
              "      <td>339</td>\n",
              "      <td>13.6</td>\n",
              "      <td>69</td>\n",
              "    </tr>\n",
              "    <tr>\n",
              "      <th>2</th>\n",
              "      <td>3</td>\n",
              "      <td>Business</td>\n",
              "      <td>30</td>\n",
              "      <td>2</td>\n",
              "      <td>3</td>\n",
              "      <td>NaN</td>\n",
              "      <td>NaN</td>\n",
              "      <td>455.0</td>\n",
              "      <td>1023</td>\n",
              "      <td>242</td>\n",
              "      <td>12.5</td>\n",
              "      <td>114</td>\n",
              "    </tr>\n",
              "    <tr>\n",
              "      <th>3</th>\n",
              "      <td>3</td>\n",
              "      <td>Business</td>\n",
              "      <td>15</td>\n",
              "      <td>5</td>\n",
              "      <td>9</td>\n",
              "      <td>19.2</td>\n",
              "      <td>NaN</td>\n",
              "      <td>1341.0</td>\n",
              "      <td>886</td>\n",
              "      <td>283</td>\n",
              "      <td>14.5</td>\n",
              "      <td>113</td>\n",
              "    </tr>\n",
              "    <tr>\n",
              "      <th>4</th>\n",
              "      <td>1</td>\n",
              "      <td>Personal</td>\n",
              "      <td>13</td>\n",
              "      <td>1</td>\n",
              "      <td>9</td>\n",
              "      <td>15.4</td>\n",
              "      <td>NaN</td>\n",
              "      <td>1214.0</td>\n",
              "      <td>2311</td>\n",
              "      <td>872</td>\n",
              "      <td>14.1</td>\n",
              "      <td>533</td>\n",
              "    </tr>\n",
              "  </tbody>\n",
              "</table>\n",
              "</div>"
            ],
            "text/plain": [
              "   Platform_Type Personal_or_Business  ...  Average_Rating  No_of_Ratings\n",
              "0              3             Business  ...            13.8            549\n",
              "1              3             Personal  ...            13.6             69\n",
              "2              3             Business  ...            12.5            114\n",
              "3              3             Business  ...            14.5            113\n",
              "4              1             Personal  ...            14.1            533\n",
              "\n",
              "[5 rows x 12 columns]"
            ]
          },
          "metadata": {
            "tags": []
          },
          "execution_count": 14
        }
      ]
    },
    {
      "cell_type": "code",
      "metadata": {
        "id": "sCvXFnESLhsM",
        "colab_type": "code",
        "colab": {}
      },
      "source": [
        "def scatter_plot(feature, target):\n",
        "  plt.figure(figsize=(10,5))\n",
        "  plt.scatter(\n",
        "      data[feature],\n",
        "      data[target],\n",
        "      c='black'\n",
        "  )\n",
        "  plt.xlabel(\"Feature\".format(feature))\n",
        "  plt.show()"
      ],
      "execution_count": 15,
      "outputs": []
    },
    {
      "cell_type": "code",
      "metadata": {
        "id": "3Oa7pe9xMcYb",
        "colab_type": "code",
        "colab": {
          "base_uri": "https://localhost:8080/",
          "height": 334
        },
        "outputId": "25a3de4f-ffce-4d9e-d732-0abdb1c64733"
      },
      "source": [
        "scatter_plot('Distance_(KM)', 'Time_from_Pickup_to_Arrival')"
      ],
      "execution_count": 16,
      "outputs": [
        {
          "output_type": "display_data",
          "data": {
            "image/png": "[encoded data removed]",
            "text/plain": [
              "<Figure size 720x360 with 1 Axes>"
            ]
          },
          "metadata": {
            "tags": [],
            "needs_background": "light"
          }
        }
      ]
    },
    {
      "cell_type": "code",
      "metadata": {
        "id": "5Suo24KfNoRl",
        "colab_type": "code",
        "colab": {
          "base_uri": "https://localhost:8080/",
          "height": 242
        },
        "outputId": "1cd2be12-5b22-42d5-ba9c-38ee3b16f3d3"
      },
      "source": [
        "df.isnull().sum()"
      ],
      "execution_count": 17,
      "outputs": [
        {
          "output_type": "execute_result",
          "data": {
            "text/plain": [
              "Platform_Type                       0\n",
              "Personal_or_Business                0\n",
              "Pickup_-_Day_of_Month               0\n",
              "Pickup_-_Weekday_(Mo_=_1)           0\n",
              "Distance_(KM)                       0\n",
              "Temperature                      5803\n",
              "Precipitation_in_millimeters    27518\n",
              "Time_from_Pickup_to_Arrival      7068\n",
              "No_Of_Orders                        0\n",
              "Age                                 0\n",
              "Average_Rating                      0\n",
              "No_of_Ratings                       0\n",
              "dtype: int64"
            ]
          },
          "metadata": {
            "tags": []
          },
          "execution_count": 17
        }
      ]
    },
    {
      "cell_type": "code",
      "metadata": {
        "id": "O6hwWNskTAtt",
        "colab_type": "code",
        "colab": {}
      },
      "source": [
        "df['Temperature'].fillna((df['Temperature'].mean()), inplace=True)"
      ],
      "execution_count": 18,
      "outputs": []
    },
    {
      "cell_type": "code",
      "metadata": {
        "id": "N1QtzzaVTdR5",
        "colab_type": "code",
        "colab": {}
      },
      "source": [
        "df['Precipitation_in_millimeters'].fillna((df['Precipitation_in_millimeters'].mean()), inplace=True)"
      ],
      "execution_count": 19,
      "outputs": []
    },
    {
      "cell_type": "code",
      "metadata": {
        "id": "HQpDh2eSYU4t",
        "colab_type": "code",
        "colab": {}
      },
      "source": [
        "df[\"Personal_or_Business\"] = pd.get_dummies(df[\"Personal_or_Business\"],prefix='Personal_or_Business',drop_first=True)"
      ],
      "execution_count": 20,
      "outputs": []
    },
    {
      "cell_type": "code",
      "metadata": {
        "id": "Soo5FnEGXu5v",
        "colab_type": "code",
        "colab": {
          "base_uri": "https://localhost:8080/",
          "height": 220
        },
        "outputId": "5bc25339-beef-4301-b705-fe9eca2d2f98"
      },
      "source": [
        "df.head()"
      ],
      "execution_count": 21,
      "outputs": [
        {
          "output_type": "execute_result",
          "data": {
            "text/html": [
              "<div>\n",
              "<style scoped>\n",
              "    .dataframe tbody tr th:only-of-type {\n",
              "        vertical-align: middle;\n",
              "    }\n",
              "\n",
              "    .dataframe tbody tr th {\n",
              "        vertical-align: top;\n",
              "    }\n",
              "\n",
              "    .dataframe thead th {\n",
              "        text-align: right;\n",
              "    }\n",
              "</style>\n",
              "<table border=\"1\" class=\"dataframe\">\n",
              "  <thead>\n",
              "    <tr style=\"text-align: right;\">\n",
              "      <th></th>\n",
              "      <th>Platform_Type</th>\n",
              "      <th>Personal_or_Business</th>\n",
              "      <th>Pickup_-_Day_of_Month</th>\n",
              "      <th>Pickup_-_Weekday_(Mo_=_1)</th>\n",
              "      <th>Distance_(KM)</th>\n",
              "      <th>Temperature</th>\n",
              "      <th>Precipitation_in_millimeters</th>\n",
              "      <th>Time_from_Pickup_to_Arrival</th>\n",
              "      <th>No_Of_Orders</th>\n",
              "      <th>Age</th>\n",
              "      <th>Average_Rating</th>\n",
              "      <th>No_of_Ratings</th>\n",
              "    </tr>\n",
              "  </thead>\n",
              "  <tbody>\n",
              "    <tr>\n",
              "      <th>0</th>\n",
              "      <td>3</td>\n",
              "      <td>0</td>\n",
              "      <td>9</td>\n",
              "      <td>5</td>\n",
              "      <td>4</td>\n",
              "      <td>20.400000</td>\n",
              "      <td>7.573502</td>\n",
              "      <td>745.0</td>\n",
              "      <td>1637</td>\n",
              "      <td>1309</td>\n",
              "      <td>13.8</td>\n",
              "      <td>549</td>\n",
              "    </tr>\n",
              "    <tr>\n",
              "      <th>1</th>\n",
              "      <td>3</td>\n",
              "      <td>1</td>\n",
              "      <td>12</td>\n",
              "      <td>5</td>\n",
              "      <td>16</td>\n",
              "      <td>26.400000</td>\n",
              "      <td>7.573502</td>\n",
              "      <td>1993.0</td>\n",
              "      <td>396</td>\n",
              "      <td>339</td>\n",
              "      <td>13.6</td>\n",
              "      <td>69</td>\n",
              "    </tr>\n",
              "    <tr>\n",
              "      <th>2</th>\n",
              "      <td>3</td>\n",
              "      <td>0</td>\n",
              "      <td>30</td>\n",
              "      <td>2</td>\n",
              "      <td>3</td>\n",
              "      <td>23.255689</td>\n",
              "      <td>7.573502</td>\n",
              "      <td>455.0</td>\n",
              "      <td>1023</td>\n",
              "      <td>242</td>\n",
              "      <td>12.5</td>\n",
              "      <td>114</td>\n",
              "    </tr>\n",
              "    <tr>\n",
              "      <th>3</th>\n",
              "      <td>3</td>\n",
              "      <td>0</td>\n",
              "      <td>15</td>\n",
              "      <td>5</td>\n",
              "      <td>9</td>\n",
              "      <td>19.200000</td>\n",
              "      <td>7.573502</td>\n",
              "      <td>1341.0</td>\n",
              "      <td>886</td>\n",
              "      <td>283</td>\n",
              "      <td>14.5</td>\n",
              "      <td>113</td>\n",
              "    </tr>\n",
              "    <tr>\n",
              "      <th>4</th>\n",
              "      <td>1</td>\n",
              "      <td>1</td>\n",
              "      <td>13</td>\n",
              "      <td>1</td>\n",
              "      <td>9</td>\n",
              "      <td>15.400000</td>\n",
              "      <td>7.573502</td>\n",
              "      <td>1214.0</td>\n",
              "      <td>2311</td>\n",
              "      <td>872</td>\n",
              "      <td>14.1</td>\n",
              "      <td>533</td>\n",
              "    </tr>\n",
              "  </tbody>\n",
              "</table>\n",
              "</div>"
            ],
            "text/plain": [
              "   Platform_Type  Personal_or_Business  ...  Average_Rating  No_of_Ratings\n",
              "0              3                     0  ...            13.8            549\n",
              "1              3                     1  ...            13.6             69\n",
              "2              3                     0  ...            12.5            114\n",
              "3              3                     0  ...            14.5            113\n",
              "4              1                     1  ...            14.1            533\n",
              "\n",
              "[5 rows x 12 columns]"
            ]
          },
          "metadata": {
            "tags": []
          },
          "execution_count": 21
        }
      ]
    },
    {
      "cell_type": "code",
      "metadata": {
        "id": "uJF5VYVwYpeC",
        "colab_type": "code",
        "colab": {}
      },
      "source": [
        "# train test split\n",
        "y = df[:len(train_df)][['Time_from_Pickup_to_Arrival']]\n",
        "x_train = df[:len(train_df)].drop('Time_from_Pickup_to_Arrival',axis=1)\n",
        "x_test = df[len(train_df):].drop('Time_from_Pickup_to_Arrival',axis=1)\n",
        "x = df[:len(train_df)].drop('Time_from_Pickup_to_Arrival',axis=1)"
      ],
      "execution_count": 22,
      "outputs": []
    },
    {
      "cell_type": "markdown",
      "metadata": {
        "id": "aGlIX6dVYvVv",
        "colab_type": "text"
      },
      "source": [
        "# **Modelling**"
      ]
    },
    {
      "cell_type": "markdown",
      "metadata": {
        "id": "hF5d23oI8ebk",
        "colab_type": "text"
      },
      "source": [
        "K-fold"
      ]
    },
    {
      "cell_type": "markdown",
      "metadata": {
        "id": "rKBUDwaEtYKT",
        "colab_type": "text"
      },
      "source": [
        "Random Forest Regression"
      ]
    },
    {
      "cell_type": "code",
      "metadata": {
        "id": "0q8S8rVgIkGX",
        "colab_type": "code",
        "colab": {}
      },
      "source": [
        "sc = StandardScaler()\n",
        "x_sc = sc.fit_transform(x)"
      ],
      "execution_count": 23,
      "outputs": []
    },
    {
      "cell_type": "code",
      "metadata": {
        "id": "nY-O3p7t8eWc",
        "colab_type": "code",
        "colab": {}
      },
      "source": [
        "x_train, x_test, y_train,y_test = train_test_split(x_sc,y,test_size=0.2,random_state= 42)"
      ],
      "execution_count": 24,
      "outputs": []
    },
    {
      "cell_type": "code",
      "metadata": {
        "colab_type": "code",
        "id": "8wGsfNBCtvDr",
        "colab": {}
      },
      "source": [
        "regressor = RandomForestRegressor(n_estimators= 120, random_state= 42)\n",
        "####try different models on different versions"
      ],
      "execution_count": 25,
      "outputs": []
    },
    {
      "cell_type": "code",
      "metadata": {
        "id": "BH3sFaxD6l3D",
        "colab_type": "code",
        "colab": {
          "base_uri": "https://localhost:8080/",
          "height": 173
        },
        "outputId": "af584510-78b3-47b1-bbdd-e49d583ddb53"
      },
      "source": [
        "regressor.fit(x_train, y_train)"
      ],
      "execution_count": 26,
      "outputs": [
        {
          "output_type": "stream",
          "text": [
            "/usr/local/lib/python3.6/dist-packages/ipykernel_launcher.py:1: DataConversionWarning: A column-vector y was passed when a 1d array was expected. Please change the shape of y to (n_samples,), for example using ravel().\n",
            "  \"\"\"Entry point for launching an IPython kernel.\n"
          ],
          "name": "stderr"
        },
        {
          "output_type": "execute_result",
          "data": {
            "text/plain": [
              "RandomForestRegressor(bootstrap=True, ccp_alpha=0.0, criterion='mse',\n",
              "                      max_depth=None, max_features='auto', max_leaf_nodes=None,\n",
              "                      max_samples=None, min_impurity_decrease=0.0,\n",
              "                      min_impurity_split=None, min_samples_leaf=1,\n",
              "                      min_samples_split=2, min_weight_fraction_leaf=0.0,\n",
              "                      n_estimators=120, n_jobs=None, oob_score=False,\n",
              "                      random_state=42, verbose=0, warm_start=False)"
            ]
          },
          "metadata": {
            "tags": []
          },
          "execution_count": 26
        }
      ]
    },
    {
      "cell_type": "code",
      "metadata": {
        "id": "me-fBYyi7Jpa",
        "colab_type": "code",
        "colab": {}
      },
      "source": [
        "y_predict = regressor.predict(x_test)"
      ],
      "execution_count": 27,
      "outputs": []
    },
    {
      "cell_type": "code",
      "metadata": {
        "colab_type": "code",
        "id": "Ekos8mr5tvD3",
        "colab": {}
      },
      "source": [
        "def rmse(y_test, y_predict):\n",
        "    return np.sqrt(mean_squared_error(y_test, y_predict))"
      ],
      "execution_count": 28,
      "outputs": []
    },
    {
      "cell_type": "code",
      "metadata": {
        "colab_type": "code",
        "id": "uoDZo-EVtvD7",
        "colab": {
          "base_uri": "https://localhost:8080/",
          "height": 34
        },
        "outputId": "c2f30f63-cf5b-45bd-a38c-9dfada16e385"
      },
      "source": [
        "rmse(y_test, y_predict)"
      ],
      "execution_count": 29,
      "outputs": [
        {
          "output_type": "execute_result",
          "data": {
            "text/plain": [
              "810.9530033431475"
            ]
          },
          "metadata": {
            "tags": []
          },
          "execution_count": 29
        }
      ]
    },
    {
      "cell_type": "code",
      "metadata": {
        "colab_type": "code",
        "id": "c0bmzFSxtvD_",
        "colab": {}
      },
      "source": [
        "from sklearn.metrics import r2_score"
      ],
      "execution_count": 30,
      "outputs": []
    },
    {
      "cell_type": "code",
      "metadata": {
        "colab_type": "code",
        "id": "PtVAdxzZtvEF",
        "colab": {
          "base_uri": "https://localhost:8080/",
          "height": 34
        },
        "outputId": "bbff75c4-803f-4b7c-fc82-cbaab76d8761"
      },
      "source": [
        "r2_score(y_test, y_predict) "
      ],
      "execution_count": 31,
      "outputs": [
        {
          "output_type": "execute_result",
          "data": {
            "text/plain": [
              "0.32293005114480666"
            ]
          },
          "metadata": {
            "tags": []
          },
          "execution_count": 31
        }
      ]
    },
    {
      "cell_type": "markdown",
      "metadata": {
        "id": "a9aVBbFcZrxn",
        "colab_type": "text"
      },
      "source": [
        "Linear Regression"
      ]
    },
    {
      "cell_type": "code",
      "metadata": {
        "id": "b3CCHoscVAYh",
        "colab_type": "code",
        "colab": {}
      },
      "source": [
        "lr = LinearRegression()\n",
        "####try different models on different versions, go wild! to see results"
      ],
      "execution_count": 32,
      "outputs": []
    },
    {
      "cell_type": "code",
      "metadata": {
        "id": "Ehn6RHwFVFRO",
        "colab_type": "code",
        "colab": {}
      },
      "source": [
        "# Using just the training dataset to test model accuracy \n",
        "from sklearn.model_selection import train_test_split\n",
        "\n",
        "x_train, x_test, y_train, y_test= train_test_split(x, y, test_size= 0.2, random_state=42) "
      ],
      "execution_count": 33,
      "outputs": []
    },
    {
      "cell_type": "code",
      "metadata": {
        "id": "OwKN8o4lVLF4",
        "colab_type": "code",
        "colab": {}
      },
      "source": [
        "lr.fit(x_train,y_train)\n",
        "\n",
        "preds = lr.predict(x_test)"
      ],
      "execution_count": 34,
      "outputs": []
    },
    {
      "cell_type": "code",
      "metadata": {
        "id": "Wq3aYm_lVP62",
        "colab_type": "code",
        "colab": {}
      },
      "source": [
        "def rmse(y_test, y_predict):\n",
        "    return np.sqrt(mean_squared_error(y_test, y_predict))"
      ],
      "execution_count": 35,
      "outputs": []
    },
    {
      "cell_type": "code",
      "metadata": {
        "id": "CeCrq_eAVSSh",
        "colab_type": "code",
        "colab": {
          "base_uri": "https://localhost:8080/",
          "height": 34
        },
        "outputId": "ac9b941b-78df-4a57-b177-720ff84192ca"
      },
      "source": [
        "rmse(y_test, preds)"
      ],
      "execution_count": 36,
      "outputs": [
        {
          "output_type": "execute_result",
          "data": {
            "text/plain": [
              "800.5254232508801"
            ]
          },
          "metadata": {
            "tags": []
          },
          "execution_count": 36
        }
      ]
    },
    {
      "cell_type": "code",
      "metadata": {
        "id": "h0iBiv41VVX6",
        "colab_type": "code",
        "colab": {}
      },
      "source": [
        "from sklearn.metrics import r2_score"
      ],
      "execution_count": 37,
      "outputs": []
    },
    {
      "cell_type": "code",
      "metadata": {
        "id": "RRIKpW7RVYXD",
        "colab_type": "code",
        "colab": {
          "base_uri": "https://localhost:8080/",
          "height": 34
        },
        "outputId": "0f01f460-5bcb-4101-9514-a68c85d3dc76"
      },
      "source": [
        "r2_score(y_test, preds) \n",
        "### checking for accuracy"
      ],
      "execution_count": 38,
      "outputs": [
        {
          "output_type": "execute_result",
          "data": {
            "text/plain": [
              "0.3402302141630247"
            ]
          },
          "metadata": {
            "tags": []
          },
          "execution_count": 38
        }
      ]
    },
    {
      "cell_type": "markdown",
      "metadata": {
        "id": "lYFbs3u5Zwhj",
        "colab_type": "text"
      },
      "source": [
        "Ridge Regression"
      ]
    },
    {
      "cell_type": "code",
      "metadata": {
        "id": "0DglkqP7Zzti",
        "colab_type": "code",
        "colab": {}
      },
      "source": [
        "rdg = Ridge(alpha=1.0)"
      ],
      "execution_count": 39,
      "outputs": []
    },
    {
      "cell_type": "code",
      "metadata": {
        "id": "RQVKrtM6co8D",
        "colab_type": "code",
        "colab": {}
      },
      "source": [
        "# Using just the training dataset to test model accuracy \n",
        "from sklearn.model_selection import train_test_split\n",
        "\n",
        "x_train, x_test, y_train, y_test= train_test_split(x, y, test_size= 0.2, random_state=42) "
      ],
      "execution_count": 40,
      "outputs": []
    },
    {
      "cell_type": "code",
      "metadata": {
        "colab_type": "code",
        "id": "7ad2gWbBcsQu",
        "colab": {}
      },
      "source": [
        "rdg.fit(x_train,y_train)\n",
        "\n",
        "preds = rdg.predict(x_test)"
      ],
      "execution_count": 41,
      "outputs": []
    },
    {
      "cell_type": "code",
      "metadata": {
        "colab_type": "code",
        "id": "K4809AUDcsQ-",
        "colab": {}
      },
      "source": [
        "def rmse(y_test, y_predict):\n",
        "    return np.sqrt(mean_squared_error(y_test, y_predict))"
      ],
      "execution_count": 42,
      "outputs": []
    },
    {
      "cell_type": "code",
      "metadata": {
        "colab_type": "code",
        "id": "zWulCTVlcsRG",
        "colab": {
          "base_uri": "https://localhost:8080/",
          "height": 34
        },
        "outputId": "32f8d5c9-2fdc-429f-93bd-8f42bda76388"
      },
      "source": [
        "rmse(y_test, preds)"
      ],
      "execution_count": 43,
      "outputs": [
        {
          "output_type": "execute_result",
          "data": {
            "text/plain": [
              "800.5257382287992"
            ]
          },
          "metadata": {
            "tags": []
          },
          "execution_count": 43
        }
      ]
    },
    {
      "cell_type": "code",
      "metadata": {
        "colab_type": "code",
        "id": "fNjEF21IcsRO",
        "colab": {}
      },
      "source": [
        "from sklearn.metrics import r2_score"
      ],
      "execution_count": 44,
      "outputs": []
    },
    {
      "cell_type": "code",
      "metadata": {
        "colab_type": "code",
        "id": "8aVJkV9wcsRX",
        "colab": {
          "base_uri": "https://localhost:8080/",
          "height": 34
        },
        "outputId": "c14bfc61-2975-4046-ff92-6b87cdb633ab"
      },
      "source": [
        "r2_score(y_test, preds) \n",
        "### checking for accuracy"
      ],
      "execution_count": 45,
      "outputs": [
        {
          "output_type": "execute_result",
          "data": {
            "text/plain": [
              "0.3402296949716308"
            ]
          },
          "metadata": {
            "tags": []
          },
          "execution_count": 45
        }
      ]
    },
    {
      "cell_type": "markdown",
      "metadata": {
        "id": "xAx5LvqSc6xA",
        "colab_type": "text"
      },
      "source": [
        "Lasso Regression"
      ]
    },
    {
      "cell_type": "code",
      "metadata": {
        "colab_type": "code",
        "id": "UWdko7h0c-1C",
        "colab": {}
      },
      "source": [
        "ls = Lasso()"
      ],
      "execution_count": 46,
      "outputs": []
    },
    {
      "cell_type": "code",
      "metadata": {
        "colab_type": "code",
        "id": "IWaz-xcJc-1S",
        "colab": {}
      },
      "source": [
        "# Using just the training dataset to test model accuracy \n",
        "from sklearn.model_selection import train_test_split\n",
        "\n",
        "x_train, x_test, y_train, y_test= train_test_split(x, y, test_size= 0.2, random_state=42) "
      ],
      "execution_count": 47,
      "outputs": []
    },
    {
      "cell_type": "code",
      "metadata": {
        "colab_type": "code",
        "id": "IN68Y36Cc-1X",
        "colab": {}
      },
      "source": [
        "ls.fit(x_train,y_train)\n",
        "\n",
        "preds = ls.predict(x_test)"
      ],
      "execution_count": 48,
      "outputs": []
    },
    {
      "cell_type": "code",
      "metadata": {
        "colab_type": "code",
        "id": "hPkWgYpUc-1b",
        "colab": {}
      },
      "source": [
        "def rmse(y_test, y_predict):\n",
        "    return np.sqrt(mean_squared_error(y_test, y_predict))"
      ],
      "execution_count": 49,
      "outputs": []
    },
    {
      "cell_type": "code",
      "metadata": {
        "colab_type": "code",
        "id": "p37PATZfc-1h",
        "colab": {
          "base_uri": "https://localhost:8080/",
          "height": 34
        },
        "outputId": "be9662d4-3c0f-4889-c363-2e71c69dead7"
      },
      "source": [
        "rmse(y_test, preds)"
      ],
      "execution_count": 50,
      "outputs": [
        {
          "output_type": "execute_result",
          "data": {
            "text/plain": [
              "800.7540264954907"
            ]
          },
          "metadata": {
            "tags": []
          },
          "execution_count": 50
        }
      ]
    },
    {
      "cell_type": "code",
      "metadata": {
        "colab_type": "code",
        "id": "PDQOvXFec-1m",
        "colab": {}
      },
      "source": [
        "from sklearn.metrics import r2_score"
      ],
      "execution_count": 51,
      "outputs": []
    },
    {
      "cell_type": "code",
      "metadata": {
        "colab_type": "code",
        "id": "-4ZBSxoQc-1p",
        "colab": {
          "base_uri": "https://localhost:8080/",
          "height": 34
        },
        "outputId": "6601a587-4a7d-4d00-f48e-95217b114865"
      },
      "source": [
        "r2_score(y_test, preds) \n",
        "### checking for accuracy"
      ],
      "execution_count": 52,
      "outputs": [
        {
          "output_type": "execute_result",
          "data": {
            "text/plain": [
              "0.3398533440606788"
            ]
          },
          "metadata": {
            "tags": []
          },
          "execution_count": 52
        }
      ]
    },
    {
      "cell_type": "markdown",
      "metadata": {
        "id": "vyVARB2bsRfm",
        "colab_type": "text"
      },
      "source": [
        "Decision Tree Regression"
      ]
    },
    {
      "cell_type": "code",
      "metadata": {
        "id": "Mtqrv-1XtmVQ",
        "colab_type": "code",
        "colab": {}
      },
      "source": [
        "sc = StandardScaler()\n",
        "x_sc = sc.fit_transform(x)"
      ],
      "execution_count": 53,
      "outputs": []
    },
    {
      "cell_type": "code",
      "metadata": {
        "id": "yLUToM3Gso-M",
        "colab_type": "code",
        "colab": {}
      },
      "source": [
        "dtr = DecisionTreeRegressor(random_state=42)"
      ],
      "execution_count": 54,
      "outputs": []
    },
    {
      "cell_type": "code",
      "metadata": {
        "colab_type": "code",
        "id": "NJM620Irs01O",
        "colab": {}
      },
      "source": [
        "# Using just the training dataset to test model accuracy \n",
        "from sklearn.model_selection import train_test_split\n",
        "\n",
        "x_train, x_test, y_train, y_test= train_test_split(x, y, test_size= 0.2, random_state=42) "
      ],
      "execution_count": 55,
      "outputs": []
    },
    {
      "cell_type": "code",
      "metadata": {
        "colab_type": "code",
        "id": "ED8BPG_4s01X",
        "colab": {}
      },
      "source": [
        "dtr.fit(x_train, y_train)\n",
        "\n",
        "preds = dtr.predict(x_test)"
      ],
      "execution_count": 56,
      "outputs": []
    },
    {
      "cell_type": "code",
      "metadata": {
        "colab_type": "code",
        "id": "YAiHUAkts01i",
        "colab": {}
      },
      "source": [
        "def rmse(y_test, y_predict):\n",
        "    return np.sqrt(mean_squared_error(y_test, y_predict))"
      ],
      "execution_count": 57,
      "outputs": []
    },
    {
      "cell_type": "code",
      "metadata": {
        "colab_type": "code",
        "id": "Rju-Yz_ys01m",
        "colab": {
          "base_uri": "https://localhost:8080/",
          "height": 34
        },
        "outputId": "cf184a95-994d-450a-a182-71edd26b4b39"
      },
      "source": [
        "rmse(y_test, preds)"
      ],
      "execution_count": 58,
      "outputs": [
        {
          "output_type": "execute_result",
          "data": {
            "text/plain": [
              "1116.6182697817014"
            ]
          },
          "metadata": {
            "tags": []
          },
          "execution_count": 58
        }
      ]
    },
    {
      "cell_type": "code",
      "metadata": {
        "colab_type": "code",
        "id": "TC06udXRs01s",
        "colab": {}
      },
      "source": [
        "from sklearn.metrics import r2_score"
      ],
      "execution_count": 59,
      "outputs": []
    },
    {
      "cell_type": "code",
      "metadata": {
        "colab_type": "code",
        "id": "EuIMcCRZs01w",
        "colab": {
          "base_uri": "https://localhost:8080/",
          "height": 34
        },
        "outputId": "6de54e74-c1cd-417d-b213-1bb3449f6789"
      },
      "source": [
        "r2_score(y_test, preds) \n",
        "### checking for accuracy"
      ],
      "execution_count": 60,
      "outputs": [
        {
          "output_type": "execute_result",
          "data": {
            "text/plain": [
              "-0.28366477560894965"
            ]
          },
          "metadata": {
            "tags": []
          },
          "execution_count": 60
        }
      ]
    },
    {
      "cell_type": "markdown",
      "metadata": {
        "id": "P64qNo3GvMhl",
        "colab_type": "text"
      },
      "source": [
        "Polynomial Regression"
      ]
    },
    {
      "cell_type": "code",
      "metadata": {
        "id": "xX9xZxuRvKa3",
        "colab_type": "code",
        "colab": {
          "base_uri": "https://localhost:8080/",
          "height": 34
        },
        "outputId": "d6593bef-7239-421f-afe5-258525ec36d9"
      },
      "source": [
        "poly_reg = PolynomialFeatures(degree=4)\n",
        "X_poly = poly_reg.fit_transform(x)\n",
        "pol_reg = LinearRegression()\n",
        "pol_reg.fit(X_poly, y)"
      ],
      "execution_count": 61,
      "outputs": [
        {
          "output_type": "execute_result",
          "data": {
            "text/plain": [
              "LinearRegression(copy_X=True, fit_intercept=True, n_jobs=None, normalize=False)"
            ]
          },
          "metadata": {
            "tags": []
          },
          "execution_count": 61
        }
      ]
    },
    {
      "cell_type": "code",
      "metadata": {
        "colab_type": "code",
        "id": "hF_RRAutx8Ga",
        "colab": {
          "base_uri": "https://localhost:8080/",
          "height": 138
        },
        "outputId": "bd75075d-2ea8-4c15-a3d3-c0e8366796bb"
      },
      "source": [
        "pol_reg.predict(poly_reg.fit_transform(x_test))"
      ],
      "execution_count": 62,
      "outputs": [
        {
          "output_type": "execute_result",
          "data": {
            "text/plain": [
              "array([[1862.1452187 ],\n",
              "       [1861.43935322],\n",
              "       [ 484.61289869],\n",
              "       ...,\n",
              "       [1135.55542063],\n",
              "       [1965.2040714 ],\n",
              "       [1016.13518111]])"
            ]
          },
          "metadata": {
            "tags": []
          },
          "execution_count": 62
        }
      ]
    },
    {
      "cell_type": "code",
      "metadata": {
        "colab_type": "code",
        "id": "w1xZlLmkx8Gh",
        "colab": {}
      },
      "source": [
        "def rmse(y_test, y_predict):\n",
        "    return np.sqrt(mean_squared_error(y_test, y_predict))"
      ],
      "execution_count": 63,
      "outputs": []
    },
    {
      "cell_type": "code",
      "metadata": {
        "colab_type": "code",
        "id": "0TiIRWnAx8Gk",
        "colab": {
          "base_uri": "https://localhost:8080/",
          "height": 34
        },
        "outputId": "65789a82-442a-4f6b-f6a9-747e59dc9494"
      },
      "source": [
        "rmse(y_test, preds)"
      ],
      "execution_count": 64,
      "outputs": [
        {
          "output_type": "execute_result",
          "data": {
            "text/plain": [
              "1116.6182697817014"
            ]
          },
          "metadata": {
            "tags": []
          },
          "execution_count": 64
        }
      ]
    },
    {
      "cell_type": "code",
      "metadata": {
        "colab_type": "code",
        "id": "05J4YqG6x8Gq",
        "colab": {}
      },
      "source": [
        "from sklearn.metrics import r2_score"
      ],
      "execution_count": 65,
      "outputs": []
    },
    {
      "cell_type": "code",
      "metadata": {
        "colab_type": "code",
        "id": "FvrZoYiqx8Gu",
        "colab": {
          "base_uri": "https://localhost:8080/",
          "height": 34
        },
        "outputId": "788d8d20-2bd2-483f-c18b-2c37cfe8d10e"
      },
      "source": [
        "r2_score(y_test, preds) \n",
        "### checking for accuracy"
      ],
      "execution_count": 66,
      "outputs": [
        {
          "output_type": "execute_result",
          "data": {
            "text/plain": [
              "-0.28366477560894965"
            ]
          },
          "metadata": {
            "tags": []
          },
          "execution_count": 66
        }
      ]
    },
    {
      "cell_type": "markdown",
      "metadata": {
        "id": "7cUt8slQyja7",
        "colab_type": "text"
      },
      "source": [
        "Logistic Regression"
      ]
    },
    {
      "cell_type": "code",
      "metadata": {
        "id": "b7bzaSsqyl86",
        "colab_type": "code",
        "colab": {}
      },
      "source": [
        "log_reg = LogisticRegression(solver='liblinear', random_state=0)"
      ],
      "execution_count": 67,
      "outputs": []
    },
    {
      "cell_type": "code",
      "metadata": {
        "id": "MDuzlxm2zDvV",
        "colab_type": "code",
        "colab": {
          "base_uri": "https://localhost:8080/",
          "height": 72
        },
        "outputId": "3d5f31e8-eb47-44d7-f452-d26c56abd871"
      },
      "source": [
        "log_reg.fit(x_train, y_train)"
      ],
      "execution_count": null,
      "outputs": [
        {
          "output_type": "stream",
          "text": [
            "/usr/local/lib/python3.6/dist-packages/sklearn/utils/validation.py:760: DataConversionWarning: A column-vector y was passed when a 1d array was expected. Please change the shape of y to (n_samples, ), for example using ravel().\n",
            "  y = column_or_1d(y, warn=True)\n"
          ],
          "name": "stderr"
        }
      ]
    },
    {
      "cell_type": "code",
      "metadata": {
        "colab_type": "code",
        "id": "dCkslvE6zS55",
        "colab": {}
      },
      "source": [
        "preds = log_reg.predict(x_test)"
      ],
      "execution_count": null,
      "outputs": []
    },
    {
      "cell_type": "code",
      "metadata": {
        "colab_type": "code",
        "id": "6I5JCZQhzS5-",
        "colab": {}
      },
      "source": [
        "def rmse(y_test, y_predict):\n",
        "    return np.sqrt(mean_squared_error(y_test, y_predict))"
      ],
      "execution_count": null,
      "outputs": []
    },
    {
      "cell_type": "code",
      "metadata": {
        "colab_type": "code",
        "id": "cvaY3VqTzS6C",
        "colab": {}
      },
      "source": [
        "rmse(y_test, preds)"
      ],
      "execution_count": null,
      "outputs": []
    },
    {
      "cell_type": "code",
      "metadata": {
        "colab_type": "code",
        "id": "KEev466xzS6H",
        "colab": {}
      },
      "source": [
        "from sklearn.metrics import r2_score"
      ],
      "execution_count": null,
      "outputs": []
    },
    {
      "cell_type": "code",
      "metadata": {
        "colab_type": "code",
        "id": "TDi1N0LGzS6L",
        "colab": {}
      },
      "source": [
        "r2_score(y_test, preds) \n",
        "### checking for accuracy"
      ],
      "execution_count": null,
      "outputs": []
    },
    {
      "cell_type": "markdown",
      "metadata": {
        "id": "u_ZXQ5mC36kG",
        "colab_type": "text"
      },
      "source": [
        "Support Vector Regression"
      ]
    },
    {
      "cell_type": "code",
      "metadata": {
        "colab_type": "code",
        "id": "PuY97GF_4s02",
        "colab": {}
      },
      "source": [
        "sc = StandardScaler()\n",
        "sc_X = StandardScaler()\n",
        "sc_y = StandardScaler()\n",
        "X = sc_X.fit_transform(x)\n",
        "y = sc_y.fit_transform(y)"
      ],
      "execution_count": null,
      "outputs": []
    },
    {
      "cell_type": "code",
      "metadata": {
        "colab_type": "code",
        "id": "hXfDG4r94s1O",
        "colab": {}
      },
      "source": [
        "sr = SVR(kernel='rbf')\n",
        "####try different models on different versions"
      ],
      "execution_count": null,
      "outputs": []
    },
    {
      "cell_type": "code",
      "metadata": {
        "colab_type": "code",
        "id": "5HdMV1Ma4s1V",
        "colab": {}
      },
      "source": [
        "sr.fit(x_train, y_train)"
      ],
      "execution_count": null,
      "outputs": []
    },
    {
      "cell_type": "code",
      "metadata": {
        "colab_type": "code",
        "id": "tiuZJJRJ4s1Z",
        "colab": {}
      },
      "source": [
        "y_predict = sr.predict(x_test)"
      ],
      "execution_count": null,
      "outputs": []
    },
    {
      "cell_type": "code",
      "metadata": {
        "colab_type": "code",
        "id": "CgblYJyy4s1c",
        "colab": {}
      },
      "source": [
        "def rmse(y_test, y_predict):\n",
        "    return np.sqrt(mean_squared_error(y_test, y_predict))"
      ],
      "execution_count": null,
      "outputs": []
    },
    {
      "cell_type": "code",
      "metadata": {
        "colab_type": "code",
        "id": "qjgudPvf4s1h",
        "colab": {}
      },
      "source": [
        "rmse(y_test, y_predict)"
      ],
      "execution_count": null,
      "outputs": []
    },
    {
      "cell_type": "code",
      "metadata": {
        "colab_type": "code",
        "id": "9gpVCYe-4s1l",
        "colab": {}
      },
      "source": [
        "from sklearn.metrics import r2_score"
      ],
      "execution_count": null,
      "outputs": []
    },
    {
      "cell_type": "code",
      "metadata": {
        "colab_type": "code",
        "id": "uprnkqEo4s1r",
        "colab": {}
      },
      "source": [
        "r2_score(y_test, y_predict) "
      ],
      "execution_count": null,
      "outputs": []
    }
  ]
}